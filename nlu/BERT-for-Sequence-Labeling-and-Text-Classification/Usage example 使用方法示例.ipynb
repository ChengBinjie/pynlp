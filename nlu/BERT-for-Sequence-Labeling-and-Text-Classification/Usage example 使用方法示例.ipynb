{
 "cells": [
  {
   "cell_type": "markdown",
   "metadata": {},
   "source": [
    "## BERT-for-Sequence-Labeling-and-Text-Classification"
   ]
  },
  {
   "cell_type": "code",
   "execution_count": null,
   "metadata": {},
   "outputs": [],
   "source": [
    "## BERT information\n",
    "\n",
    "\n",
    "\n"
   ]
  },
  {
   "cell_type": "markdown",
   "metadata": {},
   "source": [
    "Take uncased_L-12_H-768_A-12 as an example, which contains the following three files:\n",
    "+ uncased_L-12_H-768_A-12/vocab.txt\n",
    "+ uncased_L-12_H-768_A-12/bert_config.json\n",
    "+ uncased_L-12_H-768_A-12/bert_model.ckpt"
   ]
  },
  {
   "cell_type": "code",
   "execution_count": null,
   "metadata": {},
   "outputs": [],
   "source": [
    "## Sequence-Labeling-task 序列标注任务"
   ]
  },
  {
   "cell_type": "markdown",
   "metadata": {},
   "source": [
    "> Examples of model training usage"
   ]
  },
  {
   "cell_type": "markdown",
   "metadata": {},
   "source": [
    "### ATIS"
   ]
  },
  {
   "cell_type": "raw",
   "metadata": {},
   "source": [
    "python run_sequence_labeling.py \\\n",
    "--task_name=\"atis\" \\\n",
    "--do_train=True \\\n",
    "--do_eval=True \\\n",
    "--do_predict=True \\\n",
    "--data_dir=data/atis_Intent_Detection_and_Slot_Filling \\\n",
    "--vocab_file=pretrained_model/uncased_L-12_H-768_A-12/vocab.txt \\\n",
    "--bert_config_file=pretrained_model/uncased_L-12_H-768_A-12/bert_config.json \\\n",
    "--init_checkpoint=pretrained_model/uncased_L-12_H-768_A-12/bert_model.ckpt \\\n",
    "--max_seq_length=128 \\\n",
    "--train_batch_size=32 \\\n",
    "--learning_rate=2e-5 \\\n",
    "--num_train_epochs=3.0 \\\n",
    "--output_dir=./output_model/atis_Slot_Filling_epoch3/ "
   ]
  },
  {
   "cell_type": "heading",
   "metadata": {},
   "level": 6,
   "source": [
    "### CoNLL2003NER"
   ]
  },
  {
   "cell_type": "raw",
   "metadata": {},
   "source": [
    "python run_sequence_labeling.py \\\n",
    "--task_name=\"snips\" \\\n",
    "--do_train=True \\\n",
    "--do_eval=True \\\n",
    "--do_predict=True \\\n",
    "--data_dir=data/snips_Intent_Detection_and_Slot_Filling \\\n",
    "--vocab_file=pretrained_model/uncased_L-12_H-768_A-12/vocab.txt \\\n",
    "--bert_config_file=pretrained_model/uncased_L-12_H-768_A-12/bert_config.json \\\n",
    "--init_checkpoint=pretrained_model/uncased_L-12_H-768_A-12/bert_model.ckpt \\\n",
    "--max_seq_length=128 \\\n",
    "--train_batch_size=32 \\\n",
    "--learning_rate=2e-5 \\\n",
    "--num_train_epochs=3.0 \\\n",
    "--output_dir=./output_model/snips_Slot_Filling_epochs3/ "
   ]
  },
  {
   "cell_type": "heading",
   "metadata": {},
   "level": 6,
   "source": [
    "### CoNLL2003NER"
   ]
  },
  {
   "cell_type": "raw",
   "metadata": {},
   "source": [
    "python run_sequence_labeling.py \\\n",
    "--task_name=\"conll2003ner\" \\\n",
    "--do_train=True \\\n",
    "--do_eval=True \\\n",
    "--do_predict=True \\\n",
    "--data_dir=data/CoNLL2003_NER \\\n",
    "--vocab_file=pretrained_model/uncased_L-12_H-768_A-12/vocab.txt \\\n",
    "--bert_config_file=pretrained_model/uncased_L-12_H-768_A-12/bert_config.json \\\n",
    "--init_checkpoint=pretrained_model/uncased_L-12_H-768_A-12/bert_model.ckpt \\\n",
    "--max_seq_length=128 \\\n",
    "--train_batch_size=32 \\\n",
    "--learning_rate=2e-5 \\\n",
    "--num_train_epochs=3.0 \\\n",
    "--output_dir=./output_model/conll2003ner_epoch3/ "
   ]
  },
  {
   "cell_type": "markdown",
   "metadata": {},
   "source": [
    "## Sequence labeling task prediction 序列标注任务预测 "
   ]
  },
  {
   "cell_type": "raw",
   "metadata": {},
   "source": [
    "python run_sequence_labeling.py \\\n",
    "--task_name=\"conll2003ner\" \\\n",
    "--do_predict=True \\\n",
    "--data_dir=data/CoNLL2003_NER \\\n",
    "--vocab_file=pretrained_model/uncased_L-12_H-768_A-12/vocab.txt \\\n",
    "--bert_config_file=pretrained_model/uncased_L-12_H-768_A-12/bert_config.json \\\n",
    "--init_checkpoint=output_model/conll2003ner_epoch3/model.ckpt-653 \\\n",
    "--output_dir=./output_predict/conll2003ner_epoch3_ckpt653/ "
   ]
  },
  {
   "cell_type": "markdown",
   "metadata": {},
   "source": [
    "## Text-Classification Train 文本分类任务训练 "
   ]
  },
  {
   "cell_type": "markdown",
   "metadata": {},
   "source": [
    "### ATIS Train"
   ]
  },
  {
   "cell_type": "raw",
   "metadata": {},
   "source": [
    "python run_text_classification.py \\\n",
    "  --task_name=atis \\\n",
    "  --do_train=true \\\n",
    "  --do_eval=true \\\n",
    "  --data_dir=data/atis_Intent_Detection_and_Slot_Filling \\\n",
    "  --vocab_file=pretrained_model/uncased_L-12_H-768_A-12/vocab.txt \\\n",
    "  --bert_config_file=pretrained_model/uncased_L-12_H-768_A-12/bert_config.json \\\n",
    "  --init_checkpoint=pretrained_model/uncased_L-12_H-768_A-12/bert_model.ckpt \\\n",
    "  --max_seq_length=128 \\\n",
    "  --train_batch_size=32 \\\n",
    "  --learning_rate=2e-5 \\\n",
    "  --num_train_epochs=3.0 \\\n",
    "  --output_dir=./output_model/atis_Intent_Detection_epochs3/"
   ]
  },
  {
   "cell_type": "markdown",
   "metadata": {},
   "source": [
    "### ATIS Make Predicte"
   ]
  },
  {
   "cell_type": "raw",
   "metadata": {},
   "source": [
    "python run_text_classification.py \\\n",
    "  --task_name=atis \\\n",
    "  --do_predict=true \\\n",
    "  --data_dir=data/atis_Intent_Detection_and_Slot_Filling \\\n",
    "  --vocab_file=pretrained_model/uncased_L-12_H-768_A-12/vocab.txt \\\n",
    "  --bert_config_file=pretrained_model/uncased_L-12_H-768_A-12/bert_config.json \\\n",
    "  --init_checkpoint=output_model/atis_Intent_Detection_epochs3/model.ckpt-419 \\\n",
    "  --max_seq_length=128 \\\n",
    "  --output_dir=./output_predict/atis_Intent_Detection_epoch3_ckpt419"
   ]
  },
  {
   "cell_type": "markdown",
   "metadata": {},
   "source": [
    "### SNIPS Make Predicte"
   ]
  },
  {
   "cell_type": "raw",
   "metadata": {},
   "source": [
    "python run_text_classification.py \\\n",
    "  --task_name=Snips \\\n",
    "  --do_predict=true \\\n",
    "  --data_dir=data/snips_Intent_Detection_and_Slot_Filling \\\n",
    "  --vocab_file=pretrained_model/uncased_L-12_H-768_A-12/vocab.txt \\\n",
    "  --bert_config_file=pretrained_model/uncased_L-12_H-768_A-12/bert_config.json \\\n",
    "  --init_checkpoint=output_model/snips_Intent_Detection_epochs3/model.ckpt-1226 \\\n",
    "  --max_seq_length=128 \\\n",
    "  --output_dir=./output_predict/snips_Intent_Detection_epoch3_ckpt1226/"
   ]
  },
  {
   "cell_type": "markdown",
   "metadata": {},
   "source": [
    "## Joint task training 联合任务训练"
   ]
  },
  {
   "cell_type": "markdown",
   "metadata": {},
   "source": [
    "### SNIPS Train"
   ]
  },
  {
   "cell_type": "raw",
   "metadata": {},
   "source": [
    "python run_sequence_labeling_and_text_classification.py \\\n",
    "  --task_name=snips \\\n",
    "  --do_train=true \\\n",
    "  --do_eval=true \\\n",
    "  --data_dir=data/snips_Intent_Detection_and_Slot_Filling \\\n",
    "  --vocab_file=pretrained_model/uncased_L-12_H-768_A-12/vocab.txt \\\n",
    "  --bert_config_file=pretrained_model/uncased_L-12_H-768_A-12/bert_config.json \\\n",
    "  --init_checkpoint=pretrained_model/uncased_L-12_H-768_A-12/bert_model.ckpt \\\n",
    "  --num_train_epochs=3.0 \\\n",
    "  --output_dir=./output_model/snips_join_task_epoch3/"
   ]
  },
  {
   "cell_type": "markdown",
   "metadata": {},
   "source": [
    "### ATIS Train"
   ]
  },
  {
   "cell_type": "raw",
   "metadata": {},
   "source": [
    "python run_sequence_labeling_and_text_classification.py \\\n",
    "  --task_name=Atis \\\n",
    "  --do_train=true \\\n",
    "  --do_eval=true \\\n",
    "  --data_dir=data/atis_Intent_Detection_and_Slot_Filling \\\n",
    "  --vocab_file=pretrained_model/uncased_L-12_H-768_A-12/vocab.txt \\\n",
    "  --bert_config_file=pretrained_model/uncased_L-12_H-768_A-12/bert_config.json \\\n",
    "  --init_checkpoint=pretrained_model/uncased_L-12_H-768_A-12/bert_model.ckpt \\\n",
    "  --num_train_epochs=3.0 \\\n",
    "  --output_dir=./output_model/atis_join_task_epoch3/"
   ]
  },
  {
   "cell_type": "markdown",
   "metadata": {},
   "source": [
    "### ATIS Next Train"
   ]
  },
  {
   "cell_type": "raw",
   "metadata": {},
   "source": [
    "python run_sequence_labeling_and_text_classification.py \\\n",
    "  --task_name=Atis \\\n",
    "  --do_train=true \\\n",
    "  --do_eval=true \\\n",
    "  --data_dir=data/atis_Intent_Detection_and_Slot_Filling \\\n",
    "  --vocab_file=pretrained_model/uncased_L-12_H-768_A-12/vocab.txt \\\n",
    "  --bert_config_file=pretrained_model/uncased_L-12_H-768_A-12/bert_config.json \\\n",
    "  --init_checkpoint=output_model/atis_join_task_epoch3/model.ckpt-1399 \\\n",
    "  --num_train_epochs=3.0 \\\n",
    "  --output_dir=./output_model/atis_join_task_epoch6/"
   ]
  },
  {
   "cell_type": "markdown",
   "metadata": {},
   "source": [
    "## Joint Mission predict 联合任务预测 "
   ]
  },
  {
   "cell_type": "markdown",
   "metadata": {},
   "source": [
    "### SNIPS Make Predicte"
   ]
  },
  {
   "cell_type": "raw",
   "metadata": {},
   "source": [
    "python run_sequence_labeling_and_text_classification.py \\\n",
    "  --task_name=Snips \\\n",
    "  --do_predict=true \\\n",
    "  --data_dir=data/snips_Intent_Detection_and_Slot_Filling \\\n",
    "  --vocab_file=pretrained_model/uncased_L-12_H-768_A-12/vocab.txt \\\n",
    "  --bert_config_file=pretrained_model/uncased_L-12_H-768_A-12/bert_config.json \\\n",
    "  --init_checkpoint=output_model/snips_join_task_epoch3/model.ckpt-1000 \\\n",
    "  --max_seq_length=128 \\\n",
    "  --output_dir=./output_predict/snips_join_task_epoch3_ckpt1000"
   ]
  },
  {
   "cell_type": "markdown",
   "metadata": {},
   "source": [
    "### ATIS Make Predicte"
   ]
  },
  {
   "cell_type": "raw",
   "metadata": {},
   "source": [
    "python run_sequence_labeling_and_text_classification.py \\\n",
    "  --task_name=Atis \\\n",
    "  --do_predict=true \\\n",
    "  --data_dir=data/atis_Intent_Detection_and_Slot_Filling \\\n",
    "  --vocab_file=pretrained_model/uncased_L-12_H-768_A-12/vocab.txt \\\n",
    "  --bert_config_file=pretrained_model/uncased_L-12_H-768_A-12/bert_config.json \\\n",
    "  --init_checkpoint=output_model/atis_join_task_epoch3/model.ckpt-1000\n",
    "  --max_seq_length=128 \\\n",
    "  --output_dir=./output_predict/atis_join_task_epoch30_ckpt1000"
   ]
  }
 ],
 "metadata": {
  "kernelspec": {
   "display_name": "Python 3",
   "language": "python",
   "name": "python3"
  },
  "language_info": {
   "codemirror_mode": {
    "name": "ipython",
    "version": 3
   },
   "file_extension": ".py",
   "mimetype": "text/x-python",
   "name": "python",
   "nbconvert_exporter": "python",
   "pygments_lexer": "ipython3",
   "version": "3.6.7"
  }
 },
 "nbformat": 4,
 "nbformat_minor": 2
}
